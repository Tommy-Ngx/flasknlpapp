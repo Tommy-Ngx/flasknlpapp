{
 "cells": [
  {
   "cell_type": "code",
   "execution_count": 304,
   "metadata": {},
   "outputs": [],
   "source": [
    "import numpy as np\n",
    "import pandas as pd\n",
    "import matplotlib.pyplot as plt\n",
    "import seaborn as sns\n",
    "import sklearn\n",
    "from sklearn.feature_extraction.text import CountVectorizer\n",
    "from sklearn.model_selection import train_test_split\n",
    "from keras.utils.np_utils import to_categorical  #to one hot encode labels\n",
    "import pickle"
   ]
  },
  {
   "cell_type": "code",
   "execution_count": 145,
   "metadata": {},
   "outputs": [
    {
     "data": {
      "text/html": [
       "<div>\n",
       "<style scoped>\n",
       "    .dataframe tbody tr th:only-of-type {\n",
       "        vertical-align: middle;\n",
       "    }\n",
       "\n",
       "    .dataframe tbody tr th {\n",
       "        vertical-align: top;\n",
       "    }\n",
       "\n",
       "    .dataframe thead th {\n",
       "        text-align: right;\n",
       "    }\n",
       "</style>\n",
       "<table border=\"1\" class=\"dataframe\">\n",
       "  <thead>\n",
       "    <tr style=\"text-align: right;\">\n",
       "      <th></th>\n",
       "      <th>Response ID</th>\n",
       "      <th>Response Title</th>\n",
       "      <th>Question Variations</th>\n",
       "      <th>Unnamed: 3</th>\n",
       "    </tr>\n",
       "  </thead>\n",
       "  <tbody>\n",
       "    <tr>\n",
       "      <th>0</th>\n",
       "      <td>1</td>\n",
       "      <td>What is a novel coronavirus?</td>\n",
       "      <td>What is a novel coronavirus</td>\n",
       "      <td>NaN</td>\n",
       "    </tr>\n",
       "    <tr>\n",
       "      <th>1</th>\n",
       "      <td>1</td>\n",
       "      <td>What is a novel coronavirus?</td>\n",
       "      <td>what is coronavirus</td>\n",
       "      <td>NaN</td>\n",
       "    </tr>\n",
       "    <tr>\n",
       "      <th>2</th>\n",
       "      <td>1</td>\n",
       "      <td>What is a novel coronavirus?</td>\n",
       "      <td>what is coronavirus</td>\n",
       "      <td>NaN</td>\n",
       "    </tr>\n",
       "    <tr>\n",
       "      <th>3</th>\n",
       "      <td>1</td>\n",
       "      <td>What is a novel coronavirus?</td>\n",
       "      <td>coronavirus</td>\n",
       "      <td>NaN</td>\n",
       "    </tr>\n",
       "    <tr>\n",
       "      <th>4</th>\n",
       "      <td>1</td>\n",
       "      <td>What is a novel coronavirus?</td>\n",
       "      <td>coronavirus</td>\n",
       "      <td>NaN</td>\n",
       "    </tr>\n",
       "    <tr>\n",
       "      <th>...</th>\n",
       "      <td>...</td>\n",
       "      <td>...</td>\n",
       "      <td>...</td>\n",
       "      <td>...</td>\n",
       "    </tr>\n",
       "    <tr>\n",
       "      <th>545</th>\n",
       "      <td>11</td>\n",
       "      <td>Am I at risk for novel coronavirus from a pack...</td>\n",
       "      <td>products exposed to coronavirus</td>\n",
       "      <td>NaN</td>\n",
       "    </tr>\n",
       "    <tr>\n",
       "      <th>546</th>\n",
       "      <td>11</td>\n",
       "      <td>Am I at risk for novel coronavirus from a pack...</td>\n",
       "      <td>i just bought goods from china</td>\n",
       "      <td>NaN</td>\n",
       "    </tr>\n",
       "    <tr>\n",
       "      <th>547</th>\n",
       "      <td>11</td>\n",
       "      <td>Am I at risk for novel coronavirus from a pack...</td>\n",
       "      <td>sealed container shipment coronavirus</td>\n",
       "      <td>NaN</td>\n",
       "    </tr>\n",
       "    <tr>\n",
       "      <th>548</th>\n",
       "      <td>11</td>\n",
       "      <td>Am I at risk for novel coronavirus from a pack...</td>\n",
       "      <td>sealed shipment from china</td>\n",
       "      <td>NaN</td>\n",
       "    </tr>\n",
       "    <tr>\n",
       "      <th>549</th>\n",
       "      <td>11</td>\n",
       "      <td>Am I at risk for novel coronavirus from a pack...</td>\n",
       "      <td>container from wuhan chances of being infected</td>\n",
       "      <td>NaN</td>\n",
       "    </tr>\n",
       "  </tbody>\n",
       "</table>\n",
       "<p>550 rows × 4 columns</p>\n",
       "</div>"
      ],
      "text/plain": [
       "     Response ID                                     Response Title  \\\n",
       "0              1                      What is a novel coronavirus?    \n",
       "1              1                      What is a novel coronavirus?    \n",
       "2              1                      What is a novel coronavirus?    \n",
       "3              1                      What is a novel coronavirus?    \n",
       "4              1                      What is a novel coronavirus?    \n",
       "..           ...                                                ...   \n",
       "545           11  Am I at risk for novel coronavirus from a pack...   \n",
       "546           11  Am I at risk for novel coronavirus from a pack...   \n",
       "547           11  Am I at risk for novel coronavirus from a pack...   \n",
       "548           11  Am I at risk for novel coronavirus from a pack...   \n",
       "549           11  Am I at risk for novel coronavirus from a pack...   \n",
       "\n",
       "                                Question Variations Unnamed: 3  \n",
       "0                       What is a novel coronavirus        NaN  \n",
       "1                               what is coronavirus        NaN  \n",
       "2                               what is coronavirus        NaN  \n",
       "3                                       coronavirus        NaN  \n",
       "4                                       coronavirus        NaN  \n",
       "..                                              ...        ...  \n",
       "545                products exposed to coronavirus         NaN  \n",
       "546                  i just bought goods from china        NaN  \n",
       "547           sealed container shipment coronavirus        NaN  \n",
       "548                      sealed shipment from china        NaN  \n",
       "549  container from wuhan chances of being infected        NaN  \n",
       "\n",
       "[550 rows x 4 columns]"
      ]
     },
     "execution_count": 145,
     "metadata": {},
     "output_type": "execute_result"
    }
   ],
   "source": [
    "data = pd.read_excel('knowledgebase.xlsx')\n",
    "data"
   ]
  },
  {
   "cell_type": "code",
   "execution_count": 146,
   "metadata": {},
   "outputs": [
    {
     "data": {
      "text/plain": [
       "0       0\n",
       "1       0\n",
       "2       0\n",
       "3       0\n",
       "4       0\n",
       "       ..\n",
       "545    10\n",
       "546    10\n",
       "547    10\n",
       "548    10\n",
       "549    10\n",
       "Name: labels, Length: 550, dtype: int64"
      ]
     },
     "execution_count": 146,
     "metadata": {},
     "output_type": "execute_result"
    }
   ],
   "source": [
    "#get the labels\n",
    "data['labels'] = data['Response ID']-1\n",
    "data['labels']"
   ]
  },
  {
   "cell_type": "code",
   "execution_count": 147,
   "metadata": {},
   "outputs": [],
   "source": [
    "#word vectorizer\n",
    "vectorizer = CountVectorizer(max_features=10000)"
   ]
  },
  {
   "cell_type": "code",
   "execution_count": 148,
   "metadata": {},
   "outputs": [],
   "source": [
    "#fit the questions data to get the word dictionary\n",
    "X = vectorizer.fit_transform(data['Question Variations'])"
   ]
  },
  {
   "cell_type": "code",
   "execution_count": 149,
   "metadata": {},
   "outputs": [
    {
     "data": {
      "text/plain": [
       "['19',\n",
       " '2019',\n",
       " '2020',\n",
       " 'about',\n",
       " 'acceptable',\n",
       " 'aches',\n",
       " 'action',\n",
       " 'actions',\n",
       " 'after',\n",
       " 'against',\n",
       " 'air',\n",
       " 'airborne',\n",
       " 'alarm',\n",
       " 'alcohol',\n",
       " 'am',\n",
       " 'an',\n",
       " 'and',\n",
       " 'animal',\n",
       " 'animals',\n",
       " 'another',\n",
       " 'antibiotics',\n",
       " 'any',\n",
       " 'anything',\n",
       " 'are',\n",
       " 'asia',\n",
       " 'asian',\n",
       " 'at',\n",
       " 'authorities',\n",
       " 'avoid',\n",
       " 'away',\n",
       " 'bacterial',\n",
       " 'bat',\n",
       " 'bats',\n",
       " 'be',\n",
       " 'being',\n",
       " 'bleach',\n",
       " 'block',\n",
       " 'blood',\n",
       " 'body',\n",
       " 'bought',\n",
       " 'breath',\n",
       " 'breathing',\n",
       " 'buy',\n",
       " 'by',\n",
       " 'came',\n",
       " 'can',\n",
       " 'canada',\n",
       " 'carries',\n",
       " 'cats',\n",
       " 'cause',\n",
       " 'caused',\n",
       " 'cdc',\n",
       " 'chances',\n",
       " 'china',\n",
       " 'chinese',\n",
       " 'cleaning',\n",
       " 'close',\n",
       " 'come',\n",
       " 'community',\n",
       " 'compared',\n",
       " 'complications',\n",
       " 'contact',\n",
       " 'contacted',\n",
       " 'container',\n",
       " 'containing',\n",
       " 'contaminated',\n",
       " 'contamination',\n",
       " 'contracting',\n",
       " 'corona',\n",
       " 'coronavirus',\n",
       " 'cough',\n",
       " 'coughed',\n",
       " 'coughing',\n",
       " 'countries',\n",
       " 'cov',\n",
       " 'covid',\n",
       " 'crowded',\n",
       " 'cure',\n",
       " 'cured',\n",
       " 'current',\n",
       " 'deadly',\n",
       " 'delivery',\n",
       " 'detect',\n",
       " 'detecting',\n",
       " 'determine',\n",
       " 'determining',\n",
       " 'did',\n",
       " 'die',\n",
       " 'different',\n",
       " 'dilemma',\n",
       " 'disease',\n",
       " 'distance',\n",
       " 'distancing',\n",
       " 'distinguish',\n",
       " 'do',\n",
       " 'does',\n",
       " 'dogs',\n",
       " 'doing',\n",
       " 'don',\n",
       " 'done',\n",
       " 'drinking',\n",
       " 'droplets',\n",
       " 'duration',\n",
       " 'eating',\n",
       " 'effect',\n",
       " 'effective',\n",
       " 'effectiveness',\n",
       " 'effects',\n",
       " 'encounter',\n",
       " 'encountered',\n",
       " 'enter',\n",
       " 'entering',\n",
       " 'epidemic',\n",
       " 'equipment',\n",
       " 'equipments',\n",
       " 'examination',\n",
       " 'examine',\n",
       " 'examining',\n",
       " 'exist',\n",
       " 'existing',\n",
       " 'exists',\n",
       " 'experiencing',\n",
       " 'export',\n",
       " 'exposed',\n",
       " 'exposure',\n",
       " 'extreme',\n",
       " 'eye',\n",
       " 'eyes',\n",
       " 'face',\n",
       " 'facemask',\n",
       " 'facemasks',\n",
       " 'fast',\n",
       " 'feel',\n",
       " 'feeling',\n",
       " 'fever',\n",
       " 'feverish',\n",
       " 'fix',\n",
       " 'flu',\n",
       " 'for',\n",
       " 'found',\n",
       " 'friend',\n",
       " 'from',\n",
       " 'further',\n",
       " 'garlic',\n",
       " 'get',\n",
       " 'gets',\n",
       " 'give',\n",
       " 'go',\n",
       " 'good',\n",
       " 'goods',\n",
       " 'grocery',\n",
       " 'had',\n",
       " 'happen',\n",
       " 'hard',\n",
       " 'has',\n",
       " 'have',\n",
       " 'having',\n",
       " 'headache',\n",
       " 'heal',\n",
       " 'help',\n",
       " 'high',\n",
       " 'home',\n",
       " 'hospital',\n",
       " 'how',\n",
       " 'human',\n",
       " 'humans',\n",
       " 'identified',\n",
       " 'if',\n",
       " 'im',\n",
       " 'import',\n",
       " 'imported',\n",
       " 'imports',\n",
       " 'in',\n",
       " 'infect',\n",
       " 'infected',\n",
       " 'infection',\n",
       " 'info',\n",
       " 'information',\n",
       " 'inside',\n",
       " 'is',\n",
       " 'isolate',\n",
       " 'isolation',\n",
       " 'it',\n",
       " 'items',\n",
       " 'just',\n",
       " 'keep',\n",
       " 'kill',\n",
       " 'kind',\n",
       " 'kits',\n",
       " 'know',\n",
       " 'known',\n",
       " 'kovid',\n",
       " 'last',\n",
       " 'live',\n",
       " 'location',\n",
       " 'long',\n",
       " 'lysol',\n",
       " 'made',\n",
       " 'many',\n",
       " 'mask',\n",
       " 'me',\n",
       " 'measures',\n",
       " 'medicine',\n",
       " 'medicines',\n",
       " 'mers',\n",
       " 'might',\n",
       " 'mortality',\n",
       " 'my',\n",
       " 'myself',\n",
       " 'n95',\n",
       " 'ncov',\n",
       " 'near',\n",
       " 'need',\n",
       " 'new',\n",
       " 'news',\n",
       " 'normal',\n",
       " 'not',\n",
       " 'novel',\n",
       " 'of',\n",
       " 'oil',\n",
       " 'on',\n",
       " 'one',\n",
       " 'or',\n",
       " 'origin',\n",
       " 'originate',\n",
       " 'originated',\n",
       " 'origins',\n",
       " 'outbreak',\n",
       " 'package',\n",
       " 'packaged',\n",
       " 'packages',\n",
       " 'pandemic',\n",
       " 'parcels',\n",
       " 'pass',\n",
       " 'passed',\n",
       " 'passing',\n",
       " 'patient',\n",
       " 'patients',\n",
       " 'people',\n",
       " 'person',\n",
       " 'phlegm',\n",
       " 'physical',\n",
       " 'pigs',\n",
       " 'place',\n",
       " 'places',\n",
       " 'plan',\n",
       " 'pneumonia',\n",
       " 'positive',\n",
       " 'precautions',\n",
       " 'preparations',\n",
       " 'preparing',\n",
       " 'prevent',\n",
       " 'preventing',\n",
       " 'prevention',\n",
       " 'preventions',\n",
       " 'preventive',\n",
       " 'procedure',\n",
       " 'procedures',\n",
       " 'proceedings',\n",
       " 'product',\n",
       " 'products',\n",
       " 'protect',\n",
       " 'protection',\n",
       " 'protective',\n",
       " 'proven',\n",
       " 'public',\n",
       " 'putting',\n",
       " 'quick',\n",
       " 'rate',\n",
       " 'really',\n",
       " 'receiving',\n",
       " 'recently',\n",
       " 'recommend',\n",
       " 'recommended',\n",
       " 'recover',\n",
       " 'region',\n",
       " 'relieve',\n",
       " 'returning',\n",
       " 'right',\n",
       " 'risk',\n",
       " 'safe',\n",
       " 'safety',\n",
       " 'sanitation',\n",
       " 'sanitizer',\n",
       " 'sars',\n",
       " 'save',\n",
       " 'screening',\n",
       " 'screenings',\n",
       " 'sealed',\n",
       " 'self',\n",
       " 'sesame',\n",
       " 'severe',\n",
       " 'shipment',\n",
       " 'shipments',\n",
       " 'shipped',\n",
       " 'shipping',\n",
       " 'shortness',\n",
       " 'should',\n",
       " 'showing',\n",
       " 'sick',\n",
       " 'signs',\n",
       " 'simple',\n",
       " 'social',\n",
       " 'solution',\n",
       " 'solutions',\n",
       " 'solve',\n",
       " 'somebody',\n",
       " 'someone',\n",
       " 'sore',\n",
       " 'soup',\n",
       " 'source',\n",
       " 'specific',\n",
       " 'spread',\n",
       " 'spreading',\n",
       " 'spreads',\n",
       " 'start',\n",
       " 'started',\n",
       " 'status',\n",
       " 'steps',\n",
       " 'stop',\n",
       " 'stopping',\n",
       " 'survive',\n",
       " 'symptoms',\n",
       " 'taken',\n",
       " 'taking',\n",
       " 'talked',\n",
       " 'talking',\n",
       " 'tell',\n",
       " 'test',\n",
       " 'tested',\n",
       " 'testing',\n",
       " 'that',\n",
       " 'the',\n",
       " 'there',\n",
       " 'they',\n",
       " 'things',\n",
       " 'think',\n",
       " 'this',\n",
       " 'throat',\n",
       " 'through',\n",
       " 'time',\n",
       " 'tips',\n",
       " 'to',\n",
       " 'track',\n",
       " 'transfer',\n",
       " 'transferring',\n",
       " 'transmission',\n",
       " 'transmit',\n",
       " 'transmitted',\n",
       " 'transmitter',\n",
       " 'travel',\n",
       " 'travelling',\n",
       " 'treat',\n",
       " 'treating',\n",
       " 'treatment',\n",
       " 'treatments',\n",
       " 'tylenol',\n",
       " 'type',\n",
       " 'update',\n",
       " 'use',\n",
       " 'useful',\n",
       " 'using',\n",
       " 'vaccine',\n",
       " 'viral',\n",
       " 'virus',\n",
       " 'vitamins',\n",
       " 'vs',\n",
       " 'want',\n",
       " 'was',\n",
       " 'water',\n",
       " 'ways',\n",
       " 'wear',\n",
       " 'wearing',\n",
       " 'well',\n",
       " 'what',\n",
       " 'when',\n",
       " 'where',\n",
       " 'who',\n",
       " 'why',\n",
       " 'will',\n",
       " 'with',\n",
       " 'work',\n",
       " 'works',\n",
       " 'wuhan',\n",
       " 'you']"
      ]
     },
     "execution_count": 149,
     "metadata": {},
     "output_type": "execute_result"
    }
   ],
   "source": [
    "#list of words found in the QVs\n",
    "vectorizer.get_feature_names()"
   ]
  },
  {
   "cell_type": "code",
   "execution_count": 150,
   "metadata": {},
   "outputs": [
    {
     "data": {
      "text/plain": [
       "list"
      ]
     },
     "execution_count": 150,
     "metadata": {},
     "output_type": "execute_result"
    }
   ],
   "source": [
    "#show the total number of words vectorized\n",
    "type(vectorizer.get_feature_names())"
   ]
  },
  {
   "cell_type": "code",
   "execution_count": 151,
   "metadata": {},
   "outputs": [],
   "source": [
    "#convert to an array\n",
    "X = X.toarray()"
   ]
  },
  {
   "cell_type": "code",
   "execution_count": 152,
   "metadata": {},
   "outputs": [
    {
     "name": "stdout",
     "output_type": "stream",
     "text": [
      "[  4   9   3   5   1   1   3   5   9   9   2   4   1   1   3   1   7   2\n",
      "   4   1   1   1   1  16   2   1   2   1   1   1   1   1   3   3   4   1\n",
      "   2   2   4   1   3   2   1   4   1   7   1   1   1   4   2  31   4  33\n",
      "   9   1   4  12   2   1   4  11   1   2   2   8   3   1  12 189   5   1\n",
      "   4   1   1  34   2  10   1   2   1   1   1   1   4   2  24   1   1   1\n",
      "   3   1   1   1  22  21   1   8   1   2   1   1   1   1   1   2   1   1\n",
      "   1   1   2   1   1   1   1   2   2   1   2   2   1   2   1   4   4   1\n",
      "   1   1   5  40   1   1   9   1   4   1   1   4  50   1   1  67   2   1\n",
      "   7   1   1   1   1  11   2   1   2   2   2  13   1   1   1  11   1   1\n",
      "   2  47   3   2   1  15   7   1   1   2  23   1  21  10   2   3   1  44\n",
      "   2   2  11   2   1   1   2   1   3   4   2   1   1   1   1   1   1   1\n",
      "   1  11  16   8   2   1   1   1   1   1   5   1  24   2   5   3   2   1\n",
      "   2   3  44   1   3   1   5   1   6   1   3  18   9   1   2   5   1   2\n",
      "   7   1   1   2   1  23   1   1   1   1   2   5   1   1   5   1   1  32\n",
      "   6   8   1   7   3   2   1   1  16   9   1   2   1   2   1   1   1   3\n",
      "   1   1   2   9   1   1   1   1   1   6   2   3   1   1   1   1   7   1\n",
      "   2   2   1   1   5   1   2   1   3   3   1  11  15   1   2   1   1   2\n",
      "   2  13   1   1   4   1  21  13   1   5   2   1  10   6   1   1  13   9\n",
      "   1   1   1   4  15   3  14   7  75   3   3   1   3   1   1   3   2   1\n",
      "  61   1   5   1   7   2   1   1   1   4   2   2  19   3   2   6   3   7\n",
      "   2   7   1   1  69   3   1   1   2   1   1   2   4   1  51   2  16   3\n",
      "   3   7  19   1   1   8   3]\n"
     ]
    }
   ],
   "source": [
    "#check frequency of words\n",
    "print(X.sum(axis=0))"
   ]
  },
  {
   "cell_type": "code",
   "execution_count": 153,
   "metadata": {},
   "outputs": [
    {
     "data": {
      "text/plain": [
       "0       0\n",
       "1       0\n",
       "2       0\n",
       "3       0\n",
       "4       0\n",
       "       ..\n",
       "545    10\n",
       "546    10\n",
       "547    10\n",
       "548    10\n",
       "549    10\n",
       "Name: labels, Length: 550, dtype: int64"
      ]
     },
     "execution_count": 153,
     "metadata": {},
     "output_type": "execute_result"
    }
   ],
   "source": [
    "#get labels\n",
    "y = data['labels']\n",
    "y"
   ]
  },
  {
   "cell_type": "code",
   "execution_count": 154,
   "metadata": {},
   "outputs": [
    {
     "data": {
      "text/plain": [
       "10    50\n",
       "9     50\n",
       "8     50\n",
       "7     50\n",
       "6     50\n",
       "5     50\n",
       "4     50\n",
       "3     50\n",
       "2     50\n",
       "1     50\n",
       "0     50\n",
       "Name: labels, dtype: int64"
      ]
     },
     "execution_count": 154,
     "metadata": {},
     "output_type": "execute_result"
    }
   ],
   "source": [
    "#check first to see how many of each\n",
    "y.value_counts()"
   ]
  },
  {
   "cell_type": "code",
   "execution_count": 212,
   "metadata": {},
   "outputs": [],
   "source": [
    "X_train, X_test, y_train, y_test = sklearn.model_selection.train_test_split(X, y, test_size=0.1)"
   ]
  },
  {
   "cell_type": "code",
   "execution_count": 213,
   "metadata": {},
   "outputs": [
    {
     "data": {
      "text/plain": [
       "6     8\n",
       "7     7\n",
       "5     7\n",
       "3     6\n",
       "2     6\n",
       "10    5\n",
       "9     5\n",
       "8     3\n",
       "4     3\n",
       "0     3\n",
       "1     2\n",
       "Name: labels, dtype: int64"
      ]
     },
     "execution_count": 213,
     "metadata": {},
     "output_type": "execute_result"
    }
   ],
   "source": [
    "#checking for stratified data\n",
    "y_test.value_counts()"
   ]
  },
  {
   "cell_type": "code",
   "execution_count": 214,
   "metadata": {},
   "outputs": [
    {
     "data": {
      "text/plain": [
       "array([[0., 0., 0., ..., 0., 0., 0.],\n",
       "       [0., 0., 0., ..., 0., 1., 0.],\n",
       "       [0., 0., 0., ..., 0., 0., 0.],\n",
       "       ...,\n",
       "       [0., 0., 0., ..., 0., 0., 0.],\n",
       "       [1., 0., 0., ..., 0., 0., 0.],\n",
       "       [0., 0., 0., ..., 0., 0., 0.]], dtype=float32)"
      ]
     },
     "execution_count": 214,
     "metadata": {},
     "output_type": "execute_result"
    }
   ],
   "source": [
    "#one hot encode the labels\n",
    "y_train = to_categorical(y_train)\n",
    "y_test = to_categorical(y_test)\n",
    "y_train"
   ]
  },
  {
   "cell_type": "code",
   "execution_count": 215,
   "metadata": {},
   "outputs": [
    {
     "data": {
      "text/plain": [
       "(495, 385)"
      ]
     },
     "execution_count": 215,
     "metadata": {},
     "output_type": "execute_result"
    }
   ],
   "source": [
    "X_train.shape"
   ]
  },
  {
   "cell_type": "code",
   "execution_count": 216,
   "metadata": {},
   "outputs": [
    {
     "data": {
      "text/plain": [
       "(55, 385)"
      ]
     },
     "execution_count": 216,
     "metadata": {},
     "output_type": "execute_result"
    }
   ],
   "source": [
    "X_test.shape"
   ]
  },
  {
   "cell_type": "code",
   "execution_count": 217,
   "metadata": {},
   "outputs": [
    {
     "data": {
      "text/plain": [
       "(495, 11)"
      ]
     },
     "execution_count": 217,
     "metadata": {},
     "output_type": "execute_result"
    }
   ],
   "source": [
    "y_train.shape"
   ]
  },
  {
   "cell_type": "code",
   "execution_count": 218,
   "metadata": {},
   "outputs": [
    {
     "data": {
      "text/plain": [
       "(55, 11)"
      ]
     },
     "execution_count": 218,
     "metadata": {},
     "output_type": "execute_result"
    }
   ],
   "source": [
    "y_test.shape"
   ]
  },
  {
   "cell_type": "code",
   "execution_count": 219,
   "metadata": {},
   "outputs": [
    {
     "data": {
      "text/plain": [
       "array([0, 0, 0, 0, 0, 0, 0, 0, 0, 0, 0, 0, 0, 0, 0, 0, 0, 0, 0, 0, 0, 0,\n",
       "       0, 0, 0, 0, 0, 0, 0, 0, 0, 0, 0, 0, 0, 0, 0, 0, 0, 0, 0, 0, 0, 0,\n",
       "       0, 0, 0, 0, 0, 0, 0, 0, 0, 0, 0, 0, 0, 0, 0, 0, 0, 0, 0, 0, 0, 0,\n",
       "       0, 0, 0, 1, 0, 0, 0, 0, 0, 0, 0, 0, 0, 0, 0, 0, 0, 0, 0, 0, 0, 0,\n",
       "       0, 0, 0, 0, 0, 0, 1, 0, 0, 0, 0, 0, 0, 0, 0, 0, 0, 0, 0, 0, 0, 0,\n",
       "       0, 0, 0, 0, 0, 0, 0, 0, 0, 0, 0, 0, 0, 0, 0, 0, 0, 0, 0, 0, 0, 0,\n",
       "       0, 0, 0, 0, 0, 0, 0, 0, 0, 0, 0, 0, 0, 0, 0, 0, 0, 0, 0, 0, 0, 0,\n",
       "       0, 1, 0, 0, 0, 0, 0, 0, 0, 1, 0, 0, 0, 1, 0, 0, 0, 0, 0, 0, 0, 0,\n",
       "       0, 0, 0, 0, 0, 0, 0, 0, 0, 0, 0, 0, 0, 1, 0, 0, 0, 0, 0, 0, 0, 0,\n",
       "       0, 0, 0, 0, 0, 0, 0, 0, 0, 0, 0, 0, 0, 0, 0, 0, 0, 0, 0, 0, 0, 0,\n",
       "       0, 0, 0, 0, 0, 0, 0, 0, 0, 0, 0, 0, 0, 0, 0, 0, 0, 0, 0, 0, 0, 0,\n",
       "       0, 0, 0, 0, 0, 0, 0, 0, 0, 0, 0, 0, 0, 0, 0, 0, 0, 0, 0, 0, 0, 0,\n",
       "       0, 0, 0, 0, 0, 0, 0, 0, 0, 0, 0, 0, 0, 0, 0, 0, 0, 0, 0, 0, 0, 0,\n",
       "       0, 0, 0, 0, 0, 0, 0, 0, 0, 0, 0, 0, 0, 0, 0, 0, 0, 0, 0, 0, 0, 0,\n",
       "       0, 0, 0, 0, 0, 0, 0, 0, 0, 0, 0, 0, 0, 0, 0, 0, 0, 0, 0, 0, 0, 0,\n",
       "       0, 0, 0, 0, 0, 0, 0, 0, 0, 0, 0, 0, 0, 0, 0, 0, 0, 0, 0, 0, 0, 0,\n",
       "       0, 0, 0, 0, 0, 0, 0, 0, 0, 0, 0, 0, 0, 0, 0, 0, 0, 0, 0, 0, 0, 0,\n",
       "       0, 0, 0, 0, 0, 0, 0, 0, 0, 0, 0], dtype=int64)"
      ]
     },
     "execution_count": 219,
     "metadata": {},
     "output_type": "execute_result"
    }
   ],
   "source": [
    "X_train[0]"
   ]
  },
  {
   "cell_type": "code",
   "execution_count": 298,
   "metadata": {},
   "outputs": [
    {
     "data": {
      "text/plain": [
       "'vitamins'"
      ]
     },
     "execution_count": 298,
     "metadata": {},
     "output_type": "execute_result"
    }
   ],
   "source": [
    "vectorizer.get_feature_names()[365]"
   ]
  },
  {
   "cell_type": "code",
   "execution_count": 299,
   "metadata": {},
   "outputs": [],
   "source": [
    "# save the vector to pickle\n",
    "with open(\"cv_vector.pickle\",\"wb\") as file:\n",
    "    pickle.dump(vectorizer, file)"
   ]
  },
  {
   "cell_type": "code",
   "execution_count": 300,
   "metadata": {},
   "outputs": [],
   "source": [
    "# loading the vector pickls\n",
    "pickle_in = open(\"cv_vector.pickle\",\"rb\")\n",
    "vec = pickle.load(pickle_in)"
   ]
  },
  {
   "cell_type": "code",
   "execution_count": 303,
   "metadata": {},
   "outputs": [
    {
     "name": "stdout",
     "output_type": "stream",
     "text": [
      "[[0 0 0 0 0 0 0 0 0 0 0 0 0 0 0 0 0 0 0 0 0 0 0 0 0 0 0 0 0 0 0 0 0 0 0 0\n",
      "  0 0 0 0 0 0 0 0 0 0 0 0 0 0 0 0 0 0 0 0 0 0 0 0 0 0 0 0 0 0 0 0 0 1 0 0\n",
      "  0 0 0 0 0 0 0 0 0 0 0 0 0 0 0 0 0 0 0 0 0 0 0 0 0 0 0 0 0 0 0 0 0 0 0 0\n",
      "  0 0 0 0 0 0 0 0 0 0 0 0 0 0 0 0 0 0 0 0 0 0 0 0 0 0 0 0 0 0 0 0 0 0 0 0\n",
      "  0 0 0 0 0 0 0 0 0 0 0 0 0 0 0 0 0 0 0 0 0 0 0 0 0 0 0 0 0 0 0 0 0 0 0 0\n",
      "  0 0 0 0 0 0 0 0 0 0 0 0 0 0 0 0 0 0 0 0 0 0 0 0 0 0 0 0 0 0 0 0 0 0 0 0\n",
      "  0 0 0 0 0 0 0 0 0 0 0 0 0 0 0 0 0 0 0 0 0 0 0 0 0 0 0 0 0 0 0 0 0 0 0 0\n",
      "  0 0 0 0 0 0 0 0 0 0 0 0 0 0 0 0 0 0 0 0 0 0 0 0 0 0 0 0 0 0 0 0 0 0 0 0\n",
      "  0 0 0 0 0 0 0 0 0 0 0 0 0 0 0 0 0 0 0 0 0 0 0 0 0 0 0 0 0 0 0 0 0 0 0 0\n",
      "  0 0 0 0 0 0 0 0 0 0 0 0 0 0 0 0 0 0 0 0 0 0 0 0 0 0 0 0 0 0 0 0 0 0 0 0\n",
      "  0 0 0 0 0 0 0 0 0 0 0 0 0 0 0 0 0 0 0 0 0 0 0 0 0]]\n"
     ]
    }
   ],
   "source": [
    "test = vec.transform(['coronavirus'])\n",
    "print(test.toarray())"
   ]
  },
  {
   "cell_type": "code",
   "execution_count": 221,
   "metadata": {},
   "outputs": [
    {
     "data": {
      "text/plain": [
       "array([0., 0., 0., 0., 0., 0., 0., 1., 0., 0., 0.], dtype=float32)"
      ]
     },
     "execution_count": 221,
     "metadata": {},
     "output_type": "execute_result"
    }
   ],
   "source": [
    "y_train[0]"
   ]
  },
  {
   "cell_type": "markdown",
   "metadata": {},
   "source": [
    "### Setting up the model"
   ]
  },
  {
   "cell_type": "code",
   "execution_count": 171,
   "metadata": {},
   "outputs": [],
   "source": [
    "from keras import models\n",
    "from keras import layers"
   ]
  },
  {
   "cell_type": "code",
   "execution_count": 222,
   "metadata": {},
   "outputs": [],
   "source": [
    "model = models.Sequential()\n",
    "model.add(layers.Dense(64, activation='relu', input_shape=(385,)))\n",
    "model.add(layers.Dense(64, activation='relu'))\n",
    "model.add(layers.Dropout(.5))\n",
    "model.add(layers.Dense(64, activation='relu'))\n",
    "model.add(layers.Dense(11, activation='softmax'))"
   ]
  },
  {
   "cell_type": "code",
   "execution_count": 223,
   "metadata": {},
   "outputs": [],
   "source": [
    "model.compile(optimizer='rmsprop',\n",
    "              loss='categorical_crossentropy',\n",
    "              metrics=['accuracy'])"
   ]
  },
  {
   "cell_type": "code",
   "execution_count": 224,
   "metadata": {
    "scrolled": true
   },
   "outputs": [
    {
     "name": "stdout",
     "output_type": "stream",
     "text": [
      "Train on 495 samples, validate on 55 samples\n",
      "Epoch 1/50\n",
      "495/495 [==============================] - 0s 367us/step - loss: 2.3979 - accuracy: 0.1071 - val_loss: 2.3840 - val_accuracy: 0.1818\n",
      "Epoch 2/50\n",
      "495/495 [==============================] - 0s 36us/step - loss: 2.3707 - accuracy: 0.1758 - val_loss: 2.3692 - val_accuracy: 0.2182\n",
      "Epoch 3/50\n",
      "495/495 [==============================] - 0s 40us/step - loss: 2.3489 - accuracy: 0.2101 - val_loss: 2.3525 - val_accuracy: 0.2364\n",
      "Epoch 4/50\n",
      "495/495 [==============================] - 0s 38us/step - loss: 2.3231 - accuracy: 0.2222 - val_loss: 2.3320 - val_accuracy: 0.3091\n",
      "Epoch 5/50\n",
      "495/495 [==============================] - 0s 40us/step - loss: 2.2924 - accuracy: 0.2485 - val_loss: 2.3031 - val_accuracy: 0.3273\n",
      "Epoch 6/50\n",
      "495/495 [==============================] - 0s 40us/step - loss: 2.2475 - accuracy: 0.2970 - val_loss: 2.2679 - val_accuracy: 0.3636\n",
      "Epoch 7/50\n",
      "495/495 [==============================] - 0s 39us/step - loss: 2.2101 - accuracy: 0.3071 - val_loss: 2.2250 - val_accuracy: 0.4000\n",
      "Epoch 8/50\n",
      "495/495 [==============================] - 0s 36us/step - loss: 2.1609 - accuracy: 0.3455 - val_loss: 2.1742 - val_accuracy: 0.4364\n",
      "Epoch 9/50\n",
      "495/495 [==============================] - 0s 40us/step - loss: 2.1074 - accuracy: 0.3919 - val_loss: 2.1179 - val_accuracy: 0.4909\n",
      "Epoch 10/50\n",
      "495/495 [==============================] - 0s 40us/step - loss: 2.0421 - accuracy: 0.4182 - val_loss: 2.0531 - val_accuracy: 0.4909\n",
      "Epoch 11/50\n",
      "495/495 [==============================] - 0s 46us/step - loss: 1.9629 - accuracy: 0.4263 - val_loss: 1.9812 - val_accuracy: 0.5455\n",
      "Epoch 12/50\n",
      "495/495 [==============================] - 0s 37us/step - loss: 1.8828 - accuracy: 0.5152 - val_loss: 1.9011 - val_accuracy: 0.6000\n",
      "Epoch 13/50\n",
      "495/495 [==============================] - 0s 36us/step - loss: 1.8063 - accuracy: 0.5313 - val_loss: 1.8176 - val_accuracy: 0.6000\n",
      "Epoch 14/50\n",
      "495/495 [==============================] - 0s 38us/step - loss: 1.7038 - accuracy: 0.5556 - val_loss: 1.7317 - val_accuracy: 0.6000\n",
      "Epoch 15/50\n",
      "495/495 [==============================] - 0s 36us/step - loss: 1.6418 - accuracy: 0.5838 - val_loss: 1.6476 - val_accuracy: 0.6000\n",
      "Epoch 16/50\n",
      "495/495 [==============================] - 0s 32us/step - loss: 1.5610 - accuracy: 0.6000 - val_loss: 1.5651 - val_accuracy: 0.6364\n",
      "Epoch 17/50\n",
      "495/495 [==============================] - 0s 64us/step - loss: 1.4727 - accuracy: 0.6485 - val_loss: 1.4817 - val_accuracy: 0.6545\n",
      "Epoch 18/50\n",
      "495/495 [==============================] - 0s 41us/step - loss: 1.3869 - accuracy: 0.6444 - val_loss: 1.4025 - val_accuracy: 0.6545\n",
      "Epoch 19/50\n",
      "495/495 [==============================] - 0s 42us/step - loss: 1.2904 - accuracy: 0.6909 - val_loss: 1.3216 - val_accuracy: 0.6909\n",
      "Epoch 20/50\n",
      "495/495 [==============================] - 0s 43us/step - loss: 1.2250 - accuracy: 0.7051 - val_loss: 1.2473 - val_accuracy: 0.7273\n",
      "Epoch 21/50\n",
      "495/495 [==============================] - 0s 44us/step - loss: 1.1661 - accuracy: 0.7374 - val_loss: 1.1889 - val_accuracy: 0.7455\n",
      "Epoch 22/50\n",
      "495/495 [==============================] - 0s 40us/step - loss: 1.0959 - accuracy: 0.7455 - val_loss: 1.1266 - val_accuracy: 0.7455\n",
      "Epoch 23/50\n",
      "495/495 [==============================] - 0s 40us/step - loss: 1.0046 - accuracy: 0.7414 - val_loss: 1.0716 - val_accuracy: 0.8000\n",
      "Epoch 24/50\n",
      "495/495 [==============================] - 0s 36us/step - loss: 0.9446 - accuracy: 0.7677 - val_loss: 1.0412 - val_accuracy: 0.7636\n",
      "Epoch 25/50\n",
      "495/495 [==============================] - 0s 42us/step - loss: 0.9031 - accuracy: 0.7960 - val_loss: 1.0039 - val_accuracy: 0.7818\n",
      "Epoch 26/50\n",
      "495/495 [==============================] - 0s 36us/step - loss: 0.8699 - accuracy: 0.7939 - val_loss: 0.9529 - val_accuracy: 0.7818\n",
      "Epoch 27/50\n",
      "495/495 [==============================] - 0s 36us/step - loss: 0.8166 - accuracy: 0.7818 - val_loss: 0.9252 - val_accuracy: 0.7818\n",
      "Epoch 28/50\n",
      "495/495 [==============================] - 0s 45us/step - loss: 0.7619 - accuracy: 0.8101 - val_loss: 0.9065 - val_accuracy: 0.7818\n",
      "Epoch 29/50\n",
      "495/495 [==============================] - 0s 40us/step - loss: 0.7006 - accuracy: 0.8222 - val_loss: 0.8855 - val_accuracy: 0.8000\n",
      "Epoch 30/50\n",
      "495/495 [==============================] - 0s 46us/step - loss: 0.6373 - accuracy: 0.8444 - val_loss: 0.8493 - val_accuracy: 0.8182\n",
      "Epoch 31/50\n",
      "495/495 [==============================] - 0s 40us/step - loss: 0.5944 - accuracy: 0.8727 - val_loss: 0.8635 - val_accuracy: 0.8182\n",
      "Epoch 32/50\n",
      "495/495 [==============================] - 0s 36us/step - loss: 0.5874 - accuracy: 0.8687 - val_loss: 0.8225 - val_accuracy: 0.8182\n",
      "Epoch 33/50\n",
      "495/495 [==============================] - 0s 40us/step - loss: 0.5318 - accuracy: 0.8747 - val_loss: 0.8061 - val_accuracy: 0.8182\n",
      "Epoch 34/50\n",
      "495/495 [==============================] - 0s 44us/step - loss: 0.5244 - accuracy: 0.8747 - val_loss: 0.7868 - val_accuracy: 0.8182\n",
      "Epoch 35/50\n",
      "495/495 [==============================] - 0s 44us/step - loss: 0.4963 - accuracy: 0.8768 - val_loss: 0.7952 - val_accuracy: 0.8364\n",
      "Epoch 36/50\n",
      "495/495 [==============================] - 0s 37us/step - loss: 0.4812 - accuracy: 0.8808 - val_loss: 0.7928 - val_accuracy: 0.8364\n",
      "Epoch 37/50\n",
      "495/495 [==============================] - 0s 40us/step - loss: 0.4335 - accuracy: 0.8949 - val_loss: 0.7889 - val_accuracy: 0.8364\n",
      "Epoch 38/50\n",
      "495/495 [==============================] - 0s 42us/step - loss: 0.4100 - accuracy: 0.9111 - val_loss: 0.7797 - val_accuracy: 0.8364\n",
      "Epoch 39/50\n",
      "495/495 [==============================] - 0s 40us/step - loss: 0.3916 - accuracy: 0.9051 - val_loss: 0.7839 - val_accuracy: 0.8182\n",
      "Epoch 40/50\n",
      "495/495 [==============================] - 0s 43us/step - loss: 0.3689 - accuracy: 0.9253 - val_loss: 0.7907 - val_accuracy: 0.8364\n",
      "Epoch 41/50\n",
      "495/495 [==============================] - 0s 35us/step - loss: 0.3529 - accuracy: 0.9293 - val_loss: 0.7874 - val_accuracy: 0.8364\n",
      "Epoch 42/50\n",
      "495/495 [==============================] - 0s 42us/step - loss: 0.3366 - accuracy: 0.9253 - val_loss: 0.7794 - val_accuracy: 0.8182\n",
      "Epoch 43/50\n",
      "495/495 [==============================] - 0s 54us/step - loss: 0.3081 - accuracy: 0.9374 - val_loss: 0.8081 - val_accuracy: 0.8182\n",
      "Epoch 44/50\n",
      "495/495 [==============================] - 0s 38us/step - loss: 0.3085 - accuracy: 0.9212 - val_loss: 0.8285 - val_accuracy: 0.8000\n",
      "Epoch 45/50\n",
      "495/495 [==============================] - 0s 42us/step - loss: 0.2647 - accuracy: 0.9434 - val_loss: 0.8175 - val_accuracy: 0.8545\n",
      "Epoch 46/50\n",
      "495/495 [==============================] - 0s 44us/step - loss: 0.2572 - accuracy: 0.9414 - val_loss: 0.8030 - val_accuracy: 0.8364\n",
      "Epoch 47/50\n",
      "495/495 [==============================] - 0s 36us/step - loss: 0.2579 - accuracy: 0.9434 - val_loss: 0.7967 - val_accuracy: 0.8364\n",
      "Epoch 48/50\n",
      "495/495 [==============================] - 0s 44us/step - loss: 0.2413 - accuracy: 0.9414 - val_loss: 0.8206 - val_accuracy: 0.8545\n",
      "Epoch 49/50\n",
      "495/495 [==============================] - 0s 35us/step - loss: 0.2287 - accuracy: 0.9475 - val_loss: 0.7878 - val_accuracy: 0.8727\n",
      "Epoch 50/50\n",
      "495/495 [==============================] - 0s 36us/step - loss: 0.2170 - accuracy: 0.9455 - val_loss: 0.8013 - val_accuracy: 0.8364\n"
     ]
    }
   ],
   "source": [
    "history = model.fit(X_train,\n",
    "                    y_train,\n",
    "                    epochs=50,\n",
    "                    batch_size=128,\n",
    "                    validation_data=(X_test, y_test))"
   ]
  },
  {
   "cell_type": "code",
   "execution_count": 225,
   "metadata": {},
   "outputs": [
    {
     "data": {
      "image/png": "[encoded data removed]",
      "text/plain": [
       "<Figure size 432x288 with 1 Axes>"
      ]
     },
     "metadata": {
      "needs_background": "light"
     },
     "output_type": "display_data"
    }
   ],
   "source": [
    "plt.clf()\n",
    "acc = history.history['accuracy']\n",
    "val_acc = history.history['val_accuracy']\n",
    "epochs = range(1, len(acc) + 1)\n",
    "\n",
    "plt.plot(epochs, acc, 'bo', label='Training acc')\n",
    "plt.plot(epochs, val_acc, 'b', label='Validation acc')\n",
    "plt.title('Training and validation accuracy')\n",
    "plt.xlabel('Epochs')\n",
    "plt.ylabel('Loss')\n",
    "plt.legend()\n",
    "plt.show()"
   ]
  },
  {
   "cell_type": "markdown",
   "metadata": {},
   "source": [
    "### Train model with all the data"
   ]
  },
  {
   "cell_type": "code",
   "execution_count": 229,
   "metadata": {},
   "outputs": [
    {
     "name": "stdout",
     "output_type": "stream",
     "text": [
      "Model: \"sequential_23\"\n",
      "_________________________________________________________________\n",
      "Layer (type)                 Output Shape              Param #   \n",
      "=================================================================\n",
      "dense_83 (Dense)             (None, 64)                24704     \n",
      "_________________________________________________________________\n",
      "dense_84 (Dense)             (None, 64)                4160      \n",
      "_________________________________________________________________\n",
      "dropout_11 (Dropout)         (None, 64)                0         \n",
      "_________________________________________________________________\n",
      "dense_85 (Dense)             (None, 64)                4160      \n",
      "_________________________________________________________________\n",
      "dense_86 (Dense)             (None, 11)                715       \n",
      "=================================================================\n",
      "Total params: 33,739\n",
      "Trainable params: 33,739\n",
      "Non-trainable params: 0\n",
      "_________________________________________________________________\n"
     ]
    }
   ],
   "source": [
    "model = models.Sequential()\n",
    "model.add(layers.Dense(64, activation='relu', input_shape=(385,)))\n",
    "model.add(layers.Dense(64, activation='relu'))\n",
    "model.add(layers.Dropout(.5))\n",
    "model.add(layers.Dense(64, activation='relu'))\n",
    "model.add(layers.Dense(11, activation='softmax'))\n",
    "\n",
    "model.compile(optimizer='rmsprop',\n",
    "              loss='categorical_crossentropy',\n",
    "              metrics=['accuracy'])\n",
    "\n",
    "model.summary()"
   ]
  },
  {
   "cell_type": "code",
   "execution_count": 232,
   "metadata": {},
   "outputs": [
    {
     "data": {
      "text/plain": [
       "array([1., 0., 0., 0., 0., 0., 0., 0., 0., 0., 0.], dtype=float32)"
      ]
     },
     "execution_count": 232,
     "metadata": {},
     "output_type": "execute_result"
    }
   ],
   "source": [
    "y = to_categorical(y)\n",
    "y[0]"
   ]
  },
  {
   "cell_type": "code",
   "execution_count": 233,
   "metadata": {
    "scrolled": true
   },
   "outputs": [
    {
     "name": "stdout",
     "output_type": "stream",
     "text": [
      "Epoch 1/50\n",
      "550/550 [==============================] - 0s 247us/step - loss: 2.3928 - accuracy: 0.1164\n",
      "Epoch 2/50\n",
      "550/550 [==============================] - 0s 36us/step - loss: 2.3699 - accuracy: 0.1764\n",
      "Epoch 3/50\n",
      "550/550 [==============================] - 0s 46us/step - loss: 2.3493 - accuracy: 0.2145\n",
      "Epoch 4/50\n",
      "550/550 [==============================] - 0s 44us/step - loss: 2.3176 - accuracy: 0.2709\n",
      "Epoch 5/50\n",
      "550/550 [==============================] - 0s 32us/step - loss: 2.2902 - accuracy: 0.2891\n",
      "Epoch 6/50\n",
      "550/550 [==============================] - 0s 33us/step - loss: 2.2411 - accuracy: 0.3145\n",
      "Epoch 7/50\n",
      "550/550 [==============================] - 0s 38us/step - loss: 2.2069 - accuracy: 0.3327\n",
      "Epoch 8/50\n",
      "550/550 [==============================] - 0s 34us/step - loss: 2.1415 - accuracy: 0.3327\n",
      "Epoch 9/50\n",
      "550/550 [==============================] - 0s 33us/step - loss: 2.0812 - accuracy: 0.3873\n",
      "Epoch 10/50\n",
      "550/550 [==============================] - 0s 49us/step - loss: 2.0071 - accuracy: 0.4109\n",
      "Epoch 11/50\n",
      "550/550 [==============================] - 0s 38us/step - loss: 1.9426 - accuracy: 0.4182\n",
      "Epoch 12/50\n",
      "550/550 [==============================] - 0s 35us/step - loss: 1.8399 - accuracy: 0.4873\n",
      "Epoch 13/50\n",
      "550/550 [==============================] - 0s 40us/step - loss: 1.7562 - accuracy: 0.5036\n",
      "Epoch 14/50\n",
      "550/550 [==============================] - 0s 35us/step - loss: 1.6675 - accuracy: 0.5473\n",
      "Epoch 15/50\n",
      "550/550 [==============================] - 0s 34us/step - loss: 1.5907 - accuracy: 0.6091\n",
      "Epoch 16/50\n",
      "550/550 [==============================] - 0s 40us/step - loss: 1.4865 - accuracy: 0.6255\n",
      "Epoch 17/50\n",
      "550/550 [==============================] - 0s 34us/step - loss: 1.3938 - accuracy: 0.6509\n",
      "Epoch 18/50\n",
      "550/550 [==============================] - 0s 42us/step - loss: 1.3045 - accuracy: 0.6836\n",
      "Epoch 19/50\n",
      "550/550 [==============================] - 0s 45us/step - loss: 1.2406 - accuracy: 0.7127\n",
      "Epoch 20/50\n",
      "550/550 [==============================] - 0s 34us/step - loss: 1.1671 - accuracy: 0.7236\n",
      "Epoch 21/50\n",
      "550/550 [==============================] - 0s 40us/step - loss: 1.0874 - accuracy: 0.7691\n",
      "Epoch 22/50\n",
      "550/550 [==============================] - ETA: 0s - loss: 1.1561 - accuracy: 0.63 - 0s 34us/step - loss: 1.0279 - accuracy: 0.7309\n",
      "Epoch 23/50\n",
      "550/550 [==============================] - 0s 34us/step - loss: 0.9633 - accuracy: 0.7800\n",
      "Epoch 24/50\n",
      "550/550 [==============================] - 0s 38us/step - loss: 0.8746 - accuracy: 0.8018\n",
      "Epoch 25/50\n",
      "550/550 [==============================] - 0s 34us/step - loss: 0.8444 - accuracy: 0.8036\n",
      "Epoch 26/50\n",
      "550/550 [==============================] - 0s 33us/step - loss: 0.7840 - accuracy: 0.8273\n",
      "Epoch 27/50\n",
      "550/550 [==============================] - 0s 42us/step - loss: 0.7513 - accuracy: 0.8345\n",
      "Epoch 28/50\n",
      "550/550 [==============================] - 0s 36us/step - loss: 0.6397 - accuracy: 0.8782\n",
      "Epoch 29/50\n",
      "550/550 [==============================] - 0s 33us/step - loss: 0.6689 - accuracy: 0.8600\n",
      "Epoch 30/50\n",
      "550/550 [==============================] - 0s 44us/step - loss: 0.6378 - accuracy: 0.8455\n",
      "Epoch 31/50\n",
      "550/550 [==============================] - 0s 38us/step - loss: 0.5859 - accuracy: 0.8618\n",
      "Epoch 32/50\n",
      "550/550 [==============================] - 0s 39us/step - loss: 0.5283 - accuracy: 0.8891\n",
      "Epoch 33/50\n",
      "550/550 [==============================] - 0s 42us/step - loss: 0.5113 - accuracy: 0.8891\n",
      "Epoch 34/50\n",
      "550/550 [==============================] - 0s 34us/step - loss: 0.4404 - accuracy: 0.9109\n",
      "Epoch 35/50\n",
      "550/550 [==============================] - 0s 42us/step - loss: 0.4822 - accuracy: 0.8764\n",
      "Epoch 36/50\n",
      "550/550 [==============================] - 0s 36us/step - loss: 0.4186 - accuracy: 0.8909\n",
      "Epoch 37/50\n",
      "550/550 [==============================] - 0s 42us/step - loss: 0.3984 - accuracy: 0.9055\n",
      "Epoch 38/50\n",
      "550/550 [==============================] - 0s 38us/step - loss: 0.3736 - accuracy: 0.9109\n",
      "Epoch 39/50\n",
      "550/550 [==============================] - 0s 36us/step - loss: 0.3427 - accuracy: 0.9382\n",
      "Epoch 40/50\n",
      "550/550 [==============================] - 0s 36us/step - loss: 0.3673 - accuracy: 0.9127\n",
      "Epoch 41/50\n",
      "550/550 [==============================] - 0s 40us/step - loss: 0.3344 - accuracy: 0.9218\n",
      "Epoch 42/50\n",
      "550/550 [==============================] - 0s 36us/step - loss: 0.2836 - accuracy: 0.9273\n",
      "Epoch 43/50\n",
      "550/550 [==============================] - 0s 38us/step - loss: 0.2649 - accuracy: 0.9491\n",
      "Epoch 44/50\n",
      "550/550 [==============================] - 0s 42us/step - loss: 0.2593 - accuracy: 0.9455\n",
      "Epoch 45/50\n",
      "550/550 [==============================] - 0s 34us/step - loss: 0.2666 - accuracy: 0.9418\n",
      "Epoch 46/50\n",
      "550/550 [==============================] - 0s 36us/step - loss: 0.2339 - accuracy: 0.9527\n",
      "Epoch 47/50\n",
      "550/550 [==============================] - 0s 41us/step - loss: 0.2469 - accuracy: 0.9345\n",
      "Epoch 48/50\n",
      "550/550 [==============================] - 0s 33us/step - loss: 0.2255 - accuracy: 0.9382\n",
      "Epoch 49/50\n",
      "550/550 [==============================] - 0s 38us/step - loss: 0.2012 - accuracy: 0.9527\n",
      "Epoch 50/50\n",
      "550/550 [==============================] - 0s 36us/step - loss: 0.2000 - accuracy: 0.9582\n"
     ]
    }
   ],
   "source": [
    "history = model.fit(X,\n",
    "                    y,\n",
    "                    epochs=50,\n",
    "                    batch_size=128)"
   ]
  },
  {
   "cell_type": "markdown",
   "metadata": {},
   "source": [
    "### Testing the model"
   ]
  },
  {
   "cell_type": "code",
   "execution_count": 108,
   "metadata": {},
   "outputs": [
    {
     "data": {
      "text/plain": [
       "array([[0, 0, 0, 0, 0, 0, 1, 0, 0, 0, 0, 0, 0, 0, 0, 0, 0, 0, 0, 0, 0, 0,\n",
       "        0, 0, 0, 0, 0, 0, 0, 0, 0, 0, 0, 0, 0, 0, 0, 0, 0, 0, 0, 0, 0, 0,\n",
       "        0, 0, 0, 0, 0, 0, 0, 0, 0, 0, 0, 0, 0, 0, 0, 0, 0, 0, 0, 0, 0, 0,\n",
       "        0, 0, 0, 0, 0, 1, 0, 0, 0, 0, 0, 0, 0, 0, 0, 0, 0, 0, 0, 0, 0, 0,\n",
       "        0, 0, 0, 0, 0, 0, 0, 0, 0, 0, 0, 0, 0, 0, 0, 0, 0, 0, 0, 0, 0, 0,\n",
       "        0, 0, 0, 0, 0, 0, 0, 0, 0, 0, 1, 0, 0, 0, 0, 0, 0, 0, 0, 0, 0, 0,\n",
       "        0, 0, 0, 0, 0, 0, 0, 0, 0, 0, 0, 0, 0, 0, 0, 0, 0, 0, 0, 1, 0, 0,\n",
       "        0, 0, 0, 0, 0, 0, 0, 0, 0, 0, 0, 0, 0, 0, 0, 0, 0, 0, 0, 0, 0, 0,\n",
       "        0, 0, 0, 0, 0, 0, 0, 0, 0, 0, 0, 0, 0, 0, 0, 0, 0, 0, 0, 0, 0, 0,\n",
       "        1, 0, 0, 0, 0, 0, 0, 0, 0, 0, 0, 0, 0, 0, 0, 0, 0, 0, 0, 0, 0, 0,\n",
       "        0, 0, 0, 0, 0, 0, 0, 0, 0, 0, 0, 0, 0, 0, 0, 0, 0, 0, 0, 0, 0, 0,\n",
       "        0, 0, 0, 0, 0, 0, 0, 0, 0, 0, 0, 0, 0, 0, 0, 1, 0, 0, 0, 0, 0, 0,\n",
       "        0, 0, 0, 0, 0, 0, 0, 0, 0, 0, 0, 0, 0, 0, 0, 0, 0, 0, 0, 0, 1, 0,\n",
       "        0, 0, 0, 0, 0, 0, 0, 0, 0, 0, 0, 0, 0, 0, 0, 0]], dtype=int64)"
      ]
     },
     "execution_count": 108,
     "metadata": {},
     "output_type": "execute_result"
    }
   ],
   "source": [
    "question = [\"how do i protect myself against the virus?\"]\n",
    "question = vectorizer.transform(question)\n",
    "question = question.toarray()\n",
    "question"
   ]
  },
  {
   "cell_type": "code",
   "execution_count": 110,
   "metadata": {},
   "outputs": [
    {
     "name": "stdout",
     "output_type": "stream",
     "text": [
      "3\n"
     ]
    }
   ],
   "source": [
    "prediction = model.predict(question)\n",
    "print(np.argmax(prediction[0]))"
   ]
  },
  {
   "cell_type": "code",
   "execution_count": 234,
   "metadata": {},
   "outputs": [
    {
     "data": {
      "text/plain": [
       "['What is a novel coronavirus?',\n",
       " 'What is the source of 2019-nCoV?',\n",
       " 'How does the virus spread?',\n",
       " 'How can I help protect myself?',\n",
       " 'Is there a treatment for the infection?',\n",
       " 'What do I do I feel sick?',\n",
       " 'Does CDC recommend the use of facemask in the community to prevent 2019-nCoV?',\n",
       " 'What are the symptoms and complications that 2019-nCoV can cause?',\n",
       " 'How do you test a person for 2019-nCoV?',\n",
       " 'What is CDC doing about 2019-nCoV?',\n",
       " 'Am I at risk for novel coronavirus from a package or products shipping from China?']"
      ]
     },
     "execution_count": 234,
     "metadata": {},
     "output_type": "execute_result"
    }
   ],
   "source": [
    "#label classes\n",
    "class_names = [\n",
    "    'What is a novel coronavirus?',\n",
    "    'What is the source of 2019-nCoV?',\n",
    "    'How does the virus spread?',\n",
    "    'How can I help protect myself?',\n",
    "    'Is there a treatment for the infection?',\n",
    "    'What do I do if I feel sick?',\n",
    "    'Does CDC recommend the use of facemask in the community to prevent 2019-nCoV?',\n",
    "    'What are the symptoms and complications that 2019-nCoV can cause?',\n",
    "    'How do you test a person for 2019-nCoV?',\n",
    "    'What is CDC doing about 2019-nCoV?',\n",
    "    'Am I at risk for novel coronavirus from a package or products shipping from China?']\n",
    "class_names"
   ]
  },
  {
   "cell_type": "code",
   "execution_count": 112,
   "metadata": {},
   "outputs": [
    {
     "name": "stdout",
     "output_type": "stream",
     "text": [
      "How can I help protect myself?\n"
     ]
    }
   ],
   "source": [
    "#printing the response\n",
    "print(class_names[np.argmax(prediction[0])])"
   ]
  },
  {
   "cell_type": "code",
   "execution_count": 242,
   "metadata": {},
   "outputs": [],
   "source": [
    "def askQuestion(question):\n",
    "    qtn = vectorizer.transform([question])\n",
    "    qtn = qtn.toarray()\n",
    "    prediction = model.predict(qtn)\n",
    "    print(question)\n",
    "    print(\"confidence: \" + str(np.amax(prediction[0])))\n",
    "    print(class_names[np.argmax(prediction[0])])"
   ]
  },
  {
   "cell_type": "code",
   "execution_count": 243,
   "metadata": {},
   "outputs": [
    {
     "name": "stdout",
     "output_type": "stream",
     "text": [
      "whats the cause of corona virus\n",
      "confidence: 0.9980751\n",
      "What is the source of 2019-nCoV?\n"
     ]
    }
   ],
   "source": [
    "askQuestion(\"whats the cause of corona virus\")"
   ]
  },
  {
   "cell_type": "code",
   "execution_count": 244,
   "metadata": {},
   "outputs": [
    {
     "name": "stdout",
     "output_type": "stream",
     "text": [
      "why do we need to self-isolate?\n",
      "confidence: 0.99940395\n",
      "What do I do I feel sick?\n"
     ]
    }
   ],
   "source": [
    "askQuestion(\"why do we need to self-isolate?\")"
   ]
  },
  {
   "cell_type": "code",
   "execution_count": 275,
   "metadata": {},
   "outputs": [
    {
     "name": "stdout",
     "output_type": "stream",
     "text": [
      "how do i know if i have coronavirus\n",
      "confidence: 0.99100566\n",
      "What are the symptoms and complications that 2019-nCoV can cause?\n"
     ]
    }
   ],
   "source": [
    "askQuestion(\"how do i know if i have coronavirus\")"
   ]
  },
  {
   "cell_type": "code",
   "execution_count": 246,
   "metadata": {},
   "outputs": [
    {
     "name": "stdout",
     "output_type": "stream",
     "text": [
      "where should I go if i have coronavirus\n",
      "confidence: 0.5110768\n",
      "What do I do I feel sick?\n"
     ]
    }
   ],
   "source": [
    "askQuestion(\"where should I go if i have coronavirus\")"
   ]
  },
  {
   "cell_type": "code",
   "execution_count": 247,
   "metadata": {},
   "outputs": [
    {
     "name": "stdout",
     "output_type": "stream",
     "text": [
      "what should i do if im infected\n",
      "confidence: 0.9703916\n",
      "What do I do I feel sick?\n"
     ]
    }
   ],
   "source": [
    "askQuestion(\"what should i do if im infected\")"
   ]
  },
  {
   "cell_type": "code",
   "execution_count": 248,
   "metadata": {},
   "outputs": [
    {
     "name": "stdout",
     "output_type": "stream",
     "text": [
      "how do i know im infected?\n",
      "confidence: 0.8059591\n",
      "What do I do I feel sick?\n"
     ]
    }
   ],
   "source": [
    "askQuestion(\"how do i know im infected?\")"
   ]
  },
  {
   "cell_type": "code",
   "execution_count": 262,
   "metadata": {},
   "outputs": [
    {
     "name": "stdout",
     "output_type": "stream",
     "text": [
      "are my delivery safe\n",
      "confidence: 0.5149926\n",
      "Am I at risk for novel coronavirus from a package or products shipping from China?\n"
     ]
    }
   ],
   "source": [
    "askQuestion(\"are my delivery safe\")"
   ]
  },
  {
   "cell_type": "code",
   "execution_count": 289,
   "metadata": {},
   "outputs": [
    {
     "name": "stdout",
     "output_type": "stream",
     "text": [
      "symptoms from the virus\n",
      "confidence: 0.99676394\n",
      "What are the symptoms and complications that 2019-nCoV can cause?\n"
     ]
    }
   ],
   "source": [
    "askQuestion(\"symptoms from the virus\")"
   ]
  },
  {
   "cell_type": "code",
   "execution_count": 279,
   "metadata": {},
   "outputs": [
    {
     "name": "stdout",
     "output_type": "stream",
     "text": [
      "i'm sick\n",
      "confidence: 0.84525436\n",
      "What do I do I feel sick?\n"
     ]
    }
   ],
   "source": [
    "askQuestion(\"i'm sick\")"
   ]
  },
  {
   "cell_type": "code",
   "execution_count": 297,
   "metadata": {},
   "outputs": [
    {
     "name": "stdout",
     "output_type": "stream",
     "text": [
      "im sick\n",
      "confidence: 0.9744425\n",
      "What do I do I feel sick?\n"
     ]
    }
   ],
   "source": [
    "askQuestion(\"im sick\")"
   ]
  },
  {
   "cell_type": "code",
   "execution_count": 286,
   "metadata": {},
   "outputs": [],
   "source": [
    "# saving to pickle\n",
    "with open(\"covid19_virtual_agent.pickle\",\"wb\") as file:\n",
    "    pickle.dump(model, file)"
   ]
  },
  {
   "cell_type": "code",
   "execution_count": 287,
   "metadata": {},
   "outputs": [],
   "source": [
    "# loading a pickle\n",
    "pickle_in = open(\"covid19_virtual_agent.pickle\",\"rb\")\n",
    "virtual_agent_model = pickle.load(pickle_in)"
   ]
  },
  {
   "cell_type": "code",
   "execution_count": 288,
   "metadata": {},
   "outputs": [
    {
     "name": "stdout",
     "output_type": "stream",
     "text": [
      "Model: \"sequential_23\"\n",
      "_________________________________________________________________\n",
      "Layer (type)                 Output Shape              Param #   \n",
      "=================================================================\n",
      "dense_83 (Dense)             (None, 64)                24704     \n",
      "_________________________________________________________________\n",
      "dense_84 (Dense)             (None, 64)                4160      \n",
      "_________________________________________________________________\n",
      "dropout_11 (Dropout)         (None, 64)                0         \n",
      "_________________________________________________________________\n",
      "dense_85 (Dense)             (None, 64)                4160      \n",
      "_________________________________________________________________\n",
      "dense_86 (Dense)             (None, 11)                715       \n",
      "=================================================================\n",
      "Total params: 33,739\n",
      "Trainable params: 33,739\n",
      "Non-trainable params: 0\n",
      "_________________________________________________________________\n"
     ]
    }
   ],
   "source": [
    "virtual_agent_model.summary()"
   ]
  },
  {
   "cell_type": "code",
   "execution_count": null,
   "metadata": {},
   "outputs": [],
   "source": []
  }
 ],
 "metadata": {
  "kernelspec": {
   "display_name": "Python 3",
   "language": "python",
   "name": "python3"
  },
  "language_info": {
   "codemirror_mode": {
    "name": "ipython",
    "version": 3
   },
   "file_extension": ".py",
   "mimetype": "text/x-python",
   "name": "python",
   "nbconvert_exporter": "python",
   "pygments_lexer": "ipython3",
   "version": "3.6.9"
  }
 },
 "nbformat": 4,
 "nbformat_minor": 2
}
